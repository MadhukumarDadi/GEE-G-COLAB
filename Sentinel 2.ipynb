!pip install geemap


import ee
import geemap

# Authenticate and initialize Earth Engine
ee.Authenticate()
ee.Initialize()

# Define a region of interest (ROI) as a geometry (e.g., a point, polygon, or rectangle)
roi = ee.Geometry.Point([longitude, latitude]).buffer(distance)  # Example: Use a point and buffer

# Define the time period for the image acquisition
start_date = 'YYYY-MM-DD'  # Start date
end_date = 'YYYY-MM-DD'    # End date

# Filter Sentinel-2 imagery based on the ROI and date range
collection = (ee.ImageCollection('COPERNICUS/S2')
              .filterBounds(roi)
              .filterDate(ee.Date(start_date), ee.Date(end_date)))

# Sort the collection by date in ascending order
sorted_collection = collection.sort('system:time_start')

# Get the first (most recent) image in the sorted collection
image = sorted_collection.first()

# Display the image
Map = geemap.Map()
Map.centerObject(roi, 10)
Map.addLayer(image, {
  'bands': ['B4', 'B3', 'B2'],  # Select the RGB bands
  'min': 0,                     # Minimum pixel value
  'max': 3000,                  # Maximum pixel value
  'gamma': 1.4                  # Gamma correction
}, 'Sentinel-2 Image')
Map

# Download the image
output_dir = '/path/to/output/folder'  # Replace with your desired output directory
geemap.ee_export_image(image, description='sentinel2_image', folder=output_dir, scale=10, region=roi)
